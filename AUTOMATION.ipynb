{
 "cells": [
  {
   "cell_type": "code",
   "execution_count": 1,
   "id": "b140d1af",
   "metadata": {},
   "outputs": [],
   "source": [
    "from selenium import webdriver"
   ]
  },
  {
   "cell_type": "code",
   "execution_count": 7,
   "id": "748ae28c",
   "metadata": {},
   "outputs": [
    {
     "name": "stderr",
     "output_type": "stream",
     "text": [
      "<ipython-input-7-38d829733be3>:1: DeprecationWarning: executable_path has been deprecated, please pass in a Service object\n",
      "  driver=webdriver.Edge(executable_path='./msedgedriver')\n"
     ]
    }
   ],
   "source": [
    "driver=webdriver.Edge(executable_path='./msedgedriver')"
   ]
  },
  {
   "cell_type": "code",
   "execution_count": 8,
   "id": "578c8fd6",
   "metadata": {},
   "outputs": [],
   "source": [
    "driver.get(\"https://www.google.com\")"
   ]
  },
  {
   "cell_type": "code",
   "execution_count": 4,
   "id": "6ff8f67c",
   "metadata": {},
   "outputs": [],
   "source": [
    "driver.get(\"https://facebook.com\")"
   ]
  },
  {
   "cell_type": "code",
   "execution_count": 5,
   "id": "3745b9ce",
   "metadata": {},
   "outputs": [],
   "source": [
    "driver.get(\"https://www.jcboseust.ac.in\")"
   ]
  },
  {
   "cell_type": "code",
   "execution_count": 6,
   "id": "d0765ff5",
   "metadata": {},
   "outputs": [],
   "source": [
    "driver.quit()"
   ]
  },
  {
   "cell_type": "code",
   "execution_count": 10,
   "id": "7387da9e",
   "metadata": {},
   "outputs": [
    {
     "name": "stderr",
     "output_type": "stream",
     "text": [
      "<ipython-input-10-3de66de5fa72>:1: DeprecationWarning: find_element_by_* commands are deprecated. Please use find_element() instead\n",
      "  title=driver.find_element_by_tag_name(\"title\")\n"
     ]
    }
   ],
   "source": [
    "title=driver.find_element_by_tag_name(\"title\")"
   ]
  },
  {
   "cell_type": "code",
   "execution_count": 11,
   "id": "cde787fe",
   "metadata": {},
   "outputs": [
    {
     "data": {
      "text/plain": [
       "''"
      ]
     },
     "execution_count": 11,
     "metadata": {},
     "output_type": "execute_result"
    }
   ],
   "source": [
    "title.text "
   ]
  },
  {
   "cell_type": "code",
   "execution_count": 17,
   "id": "c1f2b62a",
   "metadata": {},
   "outputs": [
    {
     "data": {
      "text/plain": [
       "''"
      ]
     },
     "execution_count": 17,
     "metadata": {},
     "output_type": "execute_result"
    }
   ],
   "source": [
    "title.get_attribute('')"
   ]
  },
  {
   "cell_type": "code",
   "execution_count": 15,
   "id": "b38d2a64",
   "metadata": {},
   "outputs": [
    {
     "data": {
      "text/plain": [
       "selenium.webdriver.remote.webelement.WebElement"
      ]
     },
     "execution_count": 15,
     "metadata": {},
     "output_type": "execute_result"
    }
   ],
   "source": [
    "type(title)"
   ]
  },
  {
   "cell_type": "code",
   "execution_count": 16,
   "id": "76fd9bdd",
   "metadata": {},
   "outputs": [
    {
     "data": {
      "text/plain": [
       "selenium.webdriver.edge.webdriver.WebDriver"
      ]
     },
     "execution_count": 16,
     "metadata": {},
     "output_type": "execute_result"
    }
   ],
   "source": [
    "type(driver)"
   ]
  },
  {
   "cell_type": "markdown",
   "id": "ea3aa90f",
   "metadata": {},
   "source": [
    "##  INTERACTING WITH WEB PAGES"
   ]
  },
  {
   "cell_type": "code",
   "execution_count": 18,
   "id": "791e5613",
   "metadata": {},
   "outputs": [],
   "source": [
    "driver.get('http://demo.seleniumeasy.com/basic-first-form-demo.html')"
   ]
  },
  {
   "cell_type": "code",
   "execution_count": 21,
   "id": "e6d5300a",
   "metadata": {},
   "outputs": [
    {
     "name": "stderr",
     "output_type": "stream",
     "text": [
      "<ipython-input-21-6311fb66f27a>:1: DeprecationWarning: find_element_by_* commands are deprecated. Please use find_element() instead\n",
      "  inbox=driver.find_element_by_id('user-message')\n"
     ]
    }
   ],
   "source": [
    "inbox=driver.find_element_by_id('user-message')"
   ]
  },
  {
   "cell_type": "code",
   "execution_count": 30,
   "id": "13233d75",
   "metadata": {},
   "outputs": [
    {
     "data": {
      "text/plain": [
       "'<input type=\"text\" class=\"form-control\" placeholder=\"Please enter your Message\" id=\"user-message\">'"
      ]
     },
     "execution_count": 30,
     "metadata": {},
     "output_type": "execute_result"
    }
   ],
   "source": [
    "inbox.get_attribute('outerHTML')"
   ]
  },
  {
   "cell_type": "code",
   "execution_count": 28,
   "id": "f2704071",
   "metadata": {},
   "outputs": [],
   "source": [
    "inputmessage=\"MERRY CHRISMAS\""
   ]
  },
  {
   "cell_type": "code",
   "execution_count": 32,
   "id": "d3eb4651",
   "metadata": {},
   "outputs": [],
   "source": [
    "# WHEN WE INPUT A MESSAGE WE ACTUALLY SEND A KEY(KEY EVENT)\n",
    "inbox.send_keys(inputmessage)"
   ]
  },
  {
   "cell_type": "code",
   "execution_count": 33,
   "id": "827f4a3a",
   "metadata": {},
   "outputs": [
    {
     "name": "stderr",
     "output_type": "stream",
     "text": [
      "<ipython-input-33-993790559371>:2: DeprecationWarning: find_element_by_* commands are deprecated. Please use find_element() instead\n",
      "  form=driver.find_element_by_id('get-input')\n"
     ]
    }
   ],
   "source": [
    "# we button icon don't have id (id in html is uniqe for each element in single page) so , we first go inside the form tag (having id) then go \n",
    "form=driver.find_element_by_id('get-input')"
   ]
  },
  {
   "cell_type": "code",
   "execution_count": 34,
   "id": "01826f48",
   "metadata": {},
   "outputs": [
    {
     "data": {
      "text/plain": [
       "'<form id=\"get-input\" method=\"post\">\\n                            <div class=\"form-group\">\\n                                <label for=\"message\">Enter message</label>\\n                                <input type=\"text\" class=\"form-control\" placeholder=\"Please enter your Message\" id=\"user-message\">\\n                            </div>\\n                            <button type=\"button\" onclick=\"showInput();\" class=\"btn btn-default\">Show Message</button>\\n                        </form>'"
      ]
     },
     "execution_count": 34,
     "metadata": {},
     "output_type": "execute_result"
    }
   ],
   "source": [
    "form.get_attribute('outerHTML')"
   ]
  },
  {
   "cell_type": "code",
   "execution_count": 35,
   "id": "e4450f94",
   "metadata": {},
   "outputs": [
    {
     "data": {
      "text/plain": [
       "selenium.webdriver.remote.webelement.WebElement"
      ]
     },
     "execution_count": 35,
     "metadata": {},
     "output_type": "execute_result"
    }
   ],
   "source": [
    "type(form)"
   ]
  },
  {
   "cell_type": "code",
   "execution_count": 37,
   "id": "495e3f44",
   "metadata": {},
   "outputs": [],
   "source": [
    "btn=form.find_element_by_tag_name('button')"
   ]
  },
  {
   "cell_type": "code",
   "execution_count": 39,
   "id": "891e2455",
   "metadata": {},
   "outputs": [
    {
     "data": {
      "text/plain": [
       "'Show Message'"
      ]
     },
     "execution_count": 39,
     "metadata": {},
     "output_type": "execute_result"
    }
   ],
   "source": [
    "# to check same button or not\n",
    "btn.text"
   ]
  },
  {
   "cell_type": "code",
   "execution_count": 40,
   "id": "5dcd0828",
   "metadata": {},
   "outputs": [],
   "source": [
    "btn.click()"
   ]
  },
  {
   "cell_type": "code",
   "execution_count": 41,
   "id": "6a0c8c16",
   "metadata": {},
   "outputs": [
    {
     "name": "stderr",
     "output_type": "stream",
     "text": [
      "<ipython-input-41-9b1405bf64be>:1: DeprecationWarning: find_element_by_* commands are deprecated. Please use find_element() instead\n",
      "  output=driver.find_element_by_id('display')\n"
     ]
    }
   ],
   "source": [
    "output=driver.find_element_by_id('display')"
   ]
  },
  {
   "cell_type": "code",
   "execution_count": 42,
   "id": "1f8a0e4b",
   "metadata": {},
   "outputs": [
    {
     "data": {
      "text/plain": [
       "'MERRY CHRISMAS'"
      ]
     },
     "execution_count": 42,
     "metadata": {},
     "output_type": "execute_result"
    }
   ],
   "source": [
    "output.text"
   ]
  },
  {
   "cell_type": "code",
   "execution_count": 43,
   "id": "1647c9e2",
   "metadata": {},
   "outputs": [
    {
     "data": {
      "text/plain": [
       "<selenium.webdriver.remote.webelement.WebElement (session=\"116e351f19bbdd41bd35016fa96ec39b\", element=\"69bec74d-b31d-4168-bf83-071d832769bb\")>"
      ]
     },
     "execution_count": 43,
     "metadata": {},
     "output_type": "execute_result"
    }
   ],
   "source": [
    "output"
   ]
  },
  {
   "cell_type": "code",
   "execution_count": 45,
   "id": "57438d35",
   "metadata": {},
   "outputs": [
    {
     "data": {
      "text/plain": [
       "True"
      ]
     },
     "execution_count": 45,
     "metadata": {},
     "output_type": "execute_result"
    }
   ],
   "source": [
    "inputmessage==output.text"
   ]
  },
  {
   "cell_type": "markdown",
   "id": "12253170",
   "metadata": {},
   "source": [
    "### interacting with web pages part 2"
   ]
  },
  {
   "cell_type": "code",
   "execution_count": 46,
   "id": "eb5848cb",
   "metadata": {},
   "outputs": [
    {
     "name": "stderr",
     "output_type": "stream",
     "text": [
      "<ipython-input-46-1cccc8bc1289>:1: DeprecationWarning: find_element_by_* commands are deprecated. Please use find_element() instead\n",
      "  input2=driver.find_element_by_id('sum1')\n"
     ]
    }
   ],
   "source": [
    "input2=driver.find_element_by_id('sum1')"
   ]
  },
  {
   "cell_type": "code",
   "execution_count": 49,
   "id": "3e0e71eb",
   "metadata": {},
   "outputs": [
    {
     "data": {
      "text/plain": [
       "'<input type=\"text\" class=\"form-control\" placeholder=\"Enter value\" id=\"sum1\">'"
      ]
     },
     "execution_count": 49,
     "metadata": {},
     "output_type": "execute_result"
    }
   ],
   "source": [
    "input2.get_attribute('outerHTML')"
   ]
  },
  {
   "cell_type": "code",
   "execution_count": 50,
   "id": "be4509ba",
   "metadata": {},
   "outputs": [],
   "source": [
    "INT=int(3)"
   ]
  },
  {
   "cell_type": "code",
   "execution_count": 51,
   "id": "97029303",
   "metadata": {},
   "outputs": [],
   "source": [
    "input2.send_keys(INT)"
   ]
  },
  {
   "cell_type": "code",
   "execution_count": 52,
   "id": "d6864c77",
   "metadata": {},
   "outputs": [],
   "source": [
    "INTQ=int(5)"
   ]
  },
  {
   "cell_type": "code",
   "execution_count": 53,
   "id": "8b1bdf00",
   "metadata": {},
   "outputs": [
    {
     "name": "stderr",
     "output_type": "stream",
     "text": [
      "<ipython-input-53-0649d763b87d>:1: DeprecationWarning: find_element_by_* commands are deprecated. Please use find_element() instead\n",
      "  input3=driver.find_element_by_id('sum2')\n"
     ]
    }
   ],
   "source": [
    "input3=driver.find_element_by_id('sum2')"
   ]
  },
  {
   "cell_type": "code",
   "execution_count": 55,
   "id": "f52d0820",
   "metadata": {},
   "outputs": [],
   "source": [
    "input3.send_keys(INTQ)"
   ]
  },
  {
   "cell_type": "code",
   "execution_count": 67,
   "id": "86317497",
   "metadata": {},
   "outputs": [
    {
     "name": "stderr",
     "output_type": "stream",
     "text": [
      "<ipython-input-67-9cf8baf4f2f0>:1: DeprecationWarning: find_element_by_* commands are deprecated. Please use find_element() instead\n",
      "  form2=driver.find_element_by_id('gettotal')\n"
     ]
    }
   ],
   "source": [
    "form2=driver.find_element_by_id('gettotal')"
   ]
  },
  {
   "cell_type": "code",
   "execution_count": 68,
   "id": "a14b3298",
   "metadata": {},
   "outputs": [
    {
     "data": {
      "text/plain": [
       "'Enter a\\nEnter b\\nGet Total'"
      ]
     },
     "execution_count": 68,
     "metadata": {},
     "output_type": "execute_result"
    }
   ],
   "source": [
    "form2.text"
   ]
  },
  {
   "cell_type": "code",
   "execution_count": 69,
   "id": "a3a06282",
   "metadata": {},
   "outputs": [
    {
     "data": {
      "text/plain": [
       "selenium.webdriver.remote.webelement.WebElement"
      ]
     },
     "execution_count": 69,
     "metadata": {},
     "output_type": "execute_result"
    }
   ],
   "source": [
    "type(form2)"
   ]
  },
  {
   "cell_type": "code",
   "execution_count": 70,
   "id": "f1393c59",
   "metadata": {},
   "outputs": [],
   "source": [
    "bnt2=form2.find_element_by_tag_name('button')"
   ]
  },
  {
   "cell_type": "code",
   "execution_count": 71,
   "id": "86284c93",
   "metadata": {},
   "outputs": [
    {
     "data": {
      "text/plain": [
       "'Get Total'"
      ]
     },
     "execution_count": 71,
     "metadata": {},
     "output_type": "execute_result"
    }
   ],
   "source": [
    "bnt2.text"
   ]
  },
  {
   "cell_type": "code",
   "execution_count": 72,
   "id": "ba784ce3",
   "metadata": {},
   "outputs": [],
   "source": [
    "bnt2.click()"
   ]
  },
  {
   "cell_type": "markdown",
   "id": "1ff9c7a3",
   "metadata": {},
   "source": [
    "###  how clear data "
   ]
  },
  {
   "cell_type": "code",
   "execution_count": 76,
   "id": "00564838",
   "metadata": {},
   "outputs": [],
   "source": [
    "inputmessage=\"abcd efgh\"\n",
    "inbox.send_keys(inputmessage)\n",
    "btn.click()"
   ]
  },
  {
   "cell_type": "code",
   "execution_count": 75,
   "id": "f0a1d869",
   "metadata": {},
   "outputs": [],
   "source": [
    "inbox.clear()"
   ]
  },
  {
   "cell_type": "markdown",
   "id": "6a65fa1a",
   "metadata": {},
   "source": [
    "#  short (interacting web drivers part 2)"
   ]
  },
  {
   "cell_type": "code",
   "execution_count": 117,
   "id": "b80c788a",
   "metadata": {},
   "outputs": [
    {
     "name": "stderr",
     "output_type": "stream",
     "text": [
      "<ipython-input-117-05d8d4529028>:3: DeprecationWarning: find_element_by_* commands are deprecated. Please use find_element() instead\n",
      "  no1=driver.find_element_by_id('sum1')\n",
      "<ipython-input-117-05d8d4529028>:4: DeprecationWarning: find_element_by_* commands are deprecated. Please use find_element() instead\n",
      "  no2=driver.find_element_by_id('sum2')\n"
     ]
    }
   ],
   "source": [
    "no1.clear()\n",
    "no2.clear()\n",
    "no1=driver.find_element_by_id('sum1')\n",
    "no2=driver.find_element_by_id('sum2')"
   ]
  },
  {
   "cell_type": "code",
   "execution_count": 118,
   "id": "42599e4e",
   "metadata": {},
   "outputs": [],
   "source": [
    "a,b=29,5"
   ]
  },
  {
   "cell_type": "code",
   "execution_count": 119,
   "id": "91510af8",
   "metadata": {},
   "outputs": [],
   "source": [
    "no1.send_keys(a)\n",
    "no2.send_keys(b)"
   ]
  },
  {
   "cell_type": "code",
   "execution_count": 120,
   "id": "eebe7185",
   "metadata": {},
   "outputs": [
    {
     "name": "stderr",
     "output_type": "stream",
     "text": [
      "<ipython-input-120-0dde08ca9dcf>:2: DeprecationWarning: find_element_by_* commands are deprecated. Please use find_element() instead\n",
      "  addbtn=driver.find_element_by_xpath('//*[@id=\"gettotal\"]/button')\n"
     ]
    }
   ],
   "source": [
    "# xpath(same as css[can get you the element]) \n",
    "addbtn=driver.find_element_by_xpath('//*[@id=\"gettotal\"]/button')"
   ]
  },
  {
   "cell_type": "code",
   "execution_count": 121,
   "id": "25f943db",
   "metadata": {},
   "outputs": [],
   "source": [
    "addbtn.click()"
   ]
  },
  {
   "cell_type": "code",
   "execution_count": 126,
   "id": "a39fcb85",
   "metadata": {},
   "outputs": [
    {
     "name": "stderr",
     "output_type": "stream",
     "text": [
      "<ipython-input-126-bbd8e9fa2fe3>:1: DeprecationWarning: find_element_by_* commands are deprecated. Please use find_element() instead\n",
      "  result=driver.find_element_by_xpath('//*[@id=\"displayvalue\"]').text\n"
     ]
    }
   ],
   "source": [
    "result=driver.find_element_by_xpath('//*[@id=\"displayvalue\"]').text"
   ]
  },
  {
   "cell_type": "code",
   "execution_count": 127,
   "id": "e063d449",
   "metadata": {},
   "outputs": [
    {
     "data": {
      "text/plain": [
       "True"
      ]
     },
     "execution_count": 127,
     "metadata": {},
     "output_type": "execute_result"
    }
   ],
   "source": [
    "str(a+b) == result"
   ]
  },
  {
   "cell_type": "code",
   "execution_count": 130,
   "id": "06c37833",
   "metadata": {},
   "outputs": [
    {
     "data": {
      "text/plain": [
       "'34'"
      ]
     },
     "execution_count": 130,
     "metadata": {},
     "output_type": "execute_result"
    }
   ],
   "source": [
    "result"
   ]
  },
  {
   "cell_type": "code",
   "execution_count": 129,
   "id": "705e71f7",
   "metadata": {},
   "outputs": [
    {
     "data": {
      "text/plain": [
       "'34'"
      ]
     },
     "execution_count": 129,
     "metadata": {},
     "output_type": "execute_result"
    }
   ],
   "source": [
    "str(a+b)\n"
   ]
  },
  {
   "cell_type": "markdown",
   "id": "9e0ea601",
   "metadata": {},
   "source": [
    "##  GET DYNAMIC DATA"
   ]
  },
  {
   "cell_type": "code",
   "execution_count": 1,
   "id": "4b1b6c75",
   "metadata": {},
   "outputs": [],
   "source": [
    "from selenium import webdriver\n"
   ]
  },
  {
   "cell_type": "code",
   "execution_count": 2,
   "id": "b5b8fb5d",
   "metadata": {},
   "outputs": [],
   "source": [
    "driver=webdriver.Edge('msedgedriver')"
   ]
  },
  {
   "cell_type": "code",
   "execution_count": 4,
   "id": "62cb5eb8",
   "metadata": {},
   "outputs": [],
   "source": [
    "driver.get('http://demo.seleniumeasy.com/dynamic-data-loading-demo.html')"
   ]
  },
  {
   "cell_type": "code",
   "execution_count": 5,
   "id": "246f8e39",
   "metadata": {},
   "outputs": [
    {
     "name": "stderr",
     "output_type": "stream",
     "text": [
      "<ipython-input-5-03daec60093f>:1: DeprecationWarning: find_element_by_* commands are deprecated. Please use find_element() instead\n",
      "  bnt=driver.find_element_by_id('save')\n"
     ]
    }
   ],
   "source": [
    "bnt=driver.find_element_by_id('save')"
   ]
  },
  {
   "cell_type": "code",
   "execution_count": 6,
   "id": "acef1ccd",
   "metadata": {},
   "outputs": [
    {
     "data": {
      "text/plain": [
       "'Get New User'"
      ]
     },
     "execution_count": 6,
     "metadata": {},
     "output_type": "execute_result"
    }
   ],
   "source": [
    "bnt.text"
   ]
  },
  {
   "cell_type": "code",
   "execution_count": 7,
   "id": "f4eb8225",
   "metadata": {},
   "outputs": [],
   "source": [
    "bnt.click()"
   ]
  },
  {
   "cell_type": "code",
   "execution_count": 8,
   "id": "b3a1cd74",
   "metadata": {},
   "outputs": [],
   "source": [
    "# inside a web element we can find new more element"
   ]
  },
  {
   "cell_type": "code",
   "execution_count": 10,
   "id": "5a46e6d8",
   "metadata": {},
   "outputs": [
    {
     "name": "stderr",
     "output_type": "stream",
     "text": [
      "<ipython-input-10-1054896b6ec7>:1: DeprecationWarning: find_element_by_* commands are deprecated. Please use find_element() instead\n",
      "  user=driver.find_element_by_id('loading')\n"
     ]
    }
   ],
   "source": [
    "user=driver.find_element_by_id('loading')"
   ]
  },
  {
   "cell_type": "code",
   "execution_count": 19,
   "id": "3b701637",
   "metadata": {},
   "outputs": [],
   "source": [
    "image=user.find_element_by_tag_name('img').get_attribute('src')"
   ]
  },
  {
   "cell_type": "code",
   "execution_count": 20,
   "id": "3b5fdf72",
   "metadata": {},
   "outputs": [
    {
     "name": "stdout",
     "output_type": "stream",
     "text": [
      "https://randomuser.me/api/portraits/women/71.jpg\n"
     ]
    }
   ],
   "source": [
    "print(image)"
   ]
  },
  {
   "cell_type": "code",
   "execution_count": 24,
   "id": "daebb140",
   "metadata": {},
   "outputs": [
    {
     "data": {
      "text/plain": [
       "['First Name : Robin', 'Last Name : Romero']"
      ]
     },
     "execution_count": 24,
     "metadata": {},
     "output_type": "execute_result"
    }
   ],
   "source": [
    "user.text.split('\\n\\n')"
   ]
  },
  {
   "cell_type": "code",
   "execution_count": 23,
   "id": "729abd6b",
   "metadata": {},
   "outputs": [
    {
     "data": {
      "text/plain": [
       "'First Name : Robin\\n\\nLast Name : Romero'"
      ]
     },
     "execution_count": 23,
     "metadata": {},
     "output_type": "execute_result"
    }
   ],
   "source": [
    "user.text"
   ]
  },
  {
   "cell_type": "code",
   "execution_count": 28,
   "id": "942e624f",
   "metadata": {},
   "outputs": [
    {
     "name": "stdout",
     "output_type": "stream",
     "text": [
      " Robin\n",
      " Romero\n"
     ]
    }
   ],
   "source": [
    "\n",
    "for ele in user.text.split('\\n\\n'):\n",
    "    print(ele.split(\":\")[-1])\n",
    "    "
   ]
  },
  {
   "cell_type": "code",
   "execution_count": 26,
   "id": "6c23b7b9",
   "metadata": {},
   "outputs": [
    {
     "name": "stdout",
     "output_type": "stream",
     "text": [
      "First Name : Robin\n",
      "\n",
      "Last Name : Romero\n"
     ]
    }
   ],
   "source": [
    "print(user.text)"
   ]
  },
  {
   "cell_type": "code",
   "execution_count": 33,
   "id": "a27b2526",
   "metadata": {},
   "outputs": [
    {
     "name": "stderr",
     "output_type": "stream",
     "text": [
      "<ipython-input-33-0327e390f0be>:3: DeprecationWarning: find_element_by_* commands are deprecated. Please use find_element() instead\n",
      "  user=driver.find_element_by_id('loading')\n"
     ]
    },
    {
     "name": "stdout",
     "output_type": "stream",
     "text": [
      "http://seleniumeasy.com/test/img/loader-image.gif\n",
      "loading...\n",
      "http://seleniumeasy.com/test/img/loader-image.gif\n",
      "loading...\n",
      "http://seleniumeasy.com/test/img/loader-image.gif\n",
      "loading...\n",
      "http://seleniumeasy.com/test/img/loader-image.gif\n",
      "loading...\n",
      "http://seleniumeasy.com/test/img/loader-image.gif\n",
      "loading...\n"
     ]
    }
   ],
   "source": [
    "for i in range(5):\n",
    "    bnt.click()\n",
    "    user=driver.find_element_by_id('loading')\n",
    "    img=user.find_element_by_tag_name('img').get_attribute('src')\n",
    "    print(img)\n",
    "    print(user.text)\n",
    "    \n",
    "    \n",
    "# it is not giving text and loading img because when we do the bnt.click() it give \n",
    "#  the image of loading and text loading and after 2 3 sec the img and name pops up"
   ]
  },
  {
   "cell_type": "code",
   "execution_count": 35,
   "id": "8ffb3f45",
   "metadata": {},
   "outputs": [
    {
     "name": "stderr",
     "output_type": "stream",
     "text": [
      "<ipython-input-35-49b6c742f909>:6: DeprecationWarning: find_element_by_* commands are deprecated. Please use find_element() instead\n",
      "  user=driver.find_element_by_id('loading')\n"
     ]
    },
    {
     "name": "stdout",
     "output_type": "stream",
     "text": [
      "https://randomuser.me/api/portraits/women/53.jpg\n",
      "First Name : Marjorie\n",
      "\n",
      "Last Name : Gregory\n",
      "https://randomuser.me/api/portraits/women/61.jpg\n",
      "First Name : Brandy\n",
      "\n",
      "Last Name : Richards\n",
      "https://randomuser.me/api/portraits/women/21.jpg\n",
      "First Name : Hailey\n",
      "\n",
      "Last Name : Harvey\n",
      "https://randomuser.me/api/portraits/men/36.jpg\n",
      "First Name : Pat\n",
      "\n",
      "Last Name : Hall\n",
      "https://randomuser.me/api/portraits/women/5.jpg\n",
      "First Name : Melanie\n",
      "\n",
      "Last Name : Curtis\n"
     ]
    }
   ],
   "source": [
    "# sol----->> we need to wait for 5 sec \n",
    "import time\n",
    "for i in range(5):\n",
    "    bnt.click()\n",
    "    time.sleep(3)\n",
    "    user=driver.find_element_by_id('loading')\n",
    "    img=user.find_element_by_tag_name('img').get_attribute('src')\n",
    "    print(img)\n",
    "    print(user.text)\n"
   ]
  },
  {
   "cell_type": "code",
   "execution_count": null,
   "id": "198d7ba7",
   "metadata": {},
   "outputs": [],
   "source": [
    "\n"
   ]
  }
 ],
 "metadata": {
  "kernelspec": {
   "display_name": "Python 3",
   "language": "python",
   "name": "python3"
  },
  "language_info": {
   "codemirror_mode": {
    "name": "ipython",
    "version": 3
   },
   "file_extension": ".py",
   "mimetype": "text/x-python",
   "name": "python",
   "nbconvert_exporter": "python",
   "pygments_lexer": "ipython3",
   "version": "3.8.8"
  }
 },
 "nbformat": 4,
 "nbformat_minor": 5
}
