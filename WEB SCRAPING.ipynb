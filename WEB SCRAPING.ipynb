{
 "cells": [
  {
   "cell_type": "markdown",
   "id": "1108b7ca",
   "metadata": {},
   "source": [
    "# WEB SCRAPING\n",
    "    \n",
    "    "
   ]
  },
  {
   "cell_type": "markdown",
   "id": "a4461f1c",
   "metadata": {},
   "source": [
    "### Importing all library:"
   ]
  },
  {
   "cell_type": "code",
   "execution_count": 5,
   "id": "1c114915",
   "metadata": {},
   "outputs": [],
   "source": [
    "from selenium import webdriver\n",
    "import bs4\n",
    "import requests\n",
    "import pandas as pd\n",
    "import re"
   ]
  },
  {
   "cell_type": "code",
   "execution_count": 6,
   "id": "cae70f26",
   "metadata": {},
   "outputs": [],
   "source": [
    "url=\"https://en.wikipedia.org/wiki/List_of_countries_and_dependencies_and_their_capitals_in_native_languages\""
   ]
  },
  {
   "cell_type": "code",
   "execution_count": 7,
   "id": "2226734c",
   "metadata": {},
   "outputs": [],
   "source": [
    "res=requests.get(url)"
   ]
  },
  {
   "cell_type": "code",
   "execution_count": 8,
   "id": "c0ab0b57",
   "metadata": {},
   "outputs": [
    {
     "data": {
      "text/plain": [
       "200"
      ]
     },
     "execution_count": 8,
     "metadata": {},
     "output_type": "execute_result"
    }
   ],
   "source": [
    "res.status_code"
   ]
  },
  {
   "cell_type": "code",
   "execution_count": 9,
   "id": "f02ebd7d",
   "metadata": {},
   "outputs": [],
   "source": [
    "text=res.content"
   ]
  },
  {
   "cell_type": "code",
   "execution_count": 10,
   "id": "a6ae4645",
   "metadata": {},
   "outputs": [],
   "source": [
    "soup=bs4.BeautifulSoup(text)"
   ]
  },
  {
   "cell_type": "code",
   "execution_count": 11,
   "id": "f7221c6d",
   "metadata": {},
   "outputs": [
    {
     "data": {
      "text/plain": [
       "bs4.BeautifulSoup"
      ]
     },
     "execution_count": 11,
     "metadata": {},
     "output_type": "execute_result"
    }
   ],
   "source": [
    "type(soup)"
   ]
  },
  {
   "cell_type": "code",
   "execution_count": 12,
   "id": "042bfb5d",
   "metadata": {},
   "outputs": [],
   "source": [
    "all_tables=soup.find_all('table',attrs={\"class\":\"wikitable\"})"
   ]
  },
  {
   "cell_type": "code",
   "execution_count": 13,
   "id": "d3442bf6",
   "metadata": {},
   "outputs": [
    {
     "data": {
      "text/plain": [
       "25"
      ]
     },
     "execution_count": 13,
     "metadata": {},
     "output_type": "execute_result"
    }
   ],
   "source": [
    "len(all_tables)"
   ]
  },
  {
   "cell_type": "code",
   "execution_count": 14,
   "id": "5b57a2a6",
   "metadata": {},
   "outputs": [],
   "source": [
    "d_table=all_tables[3].find_all('tr')[1:]"
   ]
  },
  {
   "cell_type": "code",
   "execution_count": 15,
   "id": "5f329cd8",
   "metadata": {},
   "outputs": [],
   "source": [
    "all_tables=soup.find_all('table',attrs={\"class\":\"wikitable\"})"
   ]
  },
  {
   "cell_type": "code",
   "execution_count": 16,
   "id": "b31b709f",
   "metadata": {},
   "outputs": [
    {
     "data": {
      "text/plain": [
       "25"
      ]
     },
     "execution_count": 16,
     "metadata": {},
     "output_type": "execute_result"
    }
   ],
   "source": [
    "len(all_tables)"
   ]
  },
  {
   "cell_type": "code",
   "execution_count": null,
   "id": "c7608d86",
   "metadata": {},
   "outputs": [],
   "source": []
  },
  {
   "cell_type": "code",
   "execution_count": 20,
   "id": "e73d073f",
   "metadata": {},
   "outputs": [],
   "source": [
    "row=all_tables[3].find_all('tr')"
   ]
  },
  {
   "cell_type": "code",
   "execution_count": 21,
   "id": "6041b43f",
   "metadata": {},
   "outputs": [
    {
     "data": {
      "text/plain": [
       "5"
      ]
     },
     "execution_count": 21,
     "metadata": {},
     "output_type": "execute_result"
    }
   ],
   "source": [
    "len(row)"
   ]
  },
  {
   "cell_type": "code",
   "execution_count": 22,
   "id": "88b1a926",
   "metadata": {},
   "outputs": [],
   "source": [
    "all_tables=soup.find_all('table',attrs={'class':'wikitable'})"
   ]
  },
  {
   "cell_type": "code",
   "execution_count": 23,
   "id": "2069021b",
   "metadata": {},
   "outputs": [
    {
     "data": {
      "text/plain": [
       "25"
      ]
     },
     "execution_count": 23,
     "metadata": {},
     "output_type": "execute_result"
    }
   ],
   "source": [
    "len(all_tables)"
   ]
  },
  {
   "cell_type": "code",
   "execution_count": 24,
   "id": "4b8b8fa8",
   "metadata": {},
   "outputs": [],
   "source": [
    "d_tables=all_tables[3].find_all('tr')[1:]"
   ]
  },
  {
   "cell_type": "code",
   "execution_count": 25,
   "id": "ea0216f5",
   "metadata": {},
   "outputs": [],
   "source": [
    "df=pd.DataFrame({},columns=[\"Country\",\"Capital\",\"Language\"])\n",
    "df2=pd.DataFrame({},columns=[\"Country\",\"Capital\",\"Language\"])"
   ]
  },
  {
   "cell_type": "code",
   "execution_count": 26,
   "id": "7c655375",
   "metadata": {},
   "outputs": [
    {
     "data": {
      "text/html": [
       "<div>\n",
       "<style scoped>\n",
       "    .dataframe tbody tr th:only-of-type {\n",
       "        vertical-align: middle;\n",
       "    }\n",
       "\n",
       "    .dataframe tbody tr th {\n",
       "        vertical-align: top;\n",
       "    }\n",
       "\n",
       "    .dataframe thead th {\n",
       "        text-align: right;\n",
       "    }\n",
       "</style>\n",
       "<table border=\"1\" class=\"dataframe\">\n",
       "  <thead>\n",
       "    <tr style=\"text-align: right;\">\n",
       "      <th></th>\n",
       "      <th>Country</th>\n",
       "      <th>Capital</th>\n",
       "      <th>Language</th>\n",
       "    </tr>\n",
       "  </thead>\n",
       "  <tbody>\n",
       "  </tbody>\n",
       "</table>\n",
       "</div>"
      ],
      "text/plain": [
       "Empty DataFrame\n",
       "Columns: [Country, Capital, Language]\n",
       "Index: []"
      ]
     },
     "execution_count": 26,
     "metadata": {},
     "output_type": "execute_result"
    }
   ],
   "source": [
    "df"
   ]
  },
  {
   "cell_type": "markdown",
   "id": "deeca57a",
   "metadata": {},
   "source": [
    "# Getting information from all the tables"
   ]
  },
  {
   "cell_type": "code",
   "execution_count": 27,
   "id": "bd0942ea",
   "metadata": {
    "scrolled": false
   },
   "outputs": [],
   "source": [
    "for one_tables in all_tables:\n",
    "    all_rows= one_tables.find_all('tr')[1:]\n",
    "    for tr in all_rows:\n",
    "        all_tds=tr.find_all('td')\n",
    "\n",
    "        country=all_tds[0].text\n",
    "        capital=all_tds[1].text\n",
    "        language=all_tds[-1].text\n",
    "        ele={'Country':country,'Capital':capital,'Language':language}\n",
    "        df=df.append(ele,ignore_index=True)\n",
    "#         print(country,\"==\",capital,\"==\",language)\n"
   ]
  },
  {
   "cell_type": "code",
   "execution_count": 28,
   "id": "d55821e7",
   "metadata": {},
   "outputs": [],
   "source": [
    "df=df.append({'Country': 'tuvalu','Capital':'funafuti','Language':'asdf'},ignore_index=True)"
   ]
  },
  {
   "cell_type": "code",
   "execution_count": 29,
   "id": "33d37603",
   "metadata": {},
   "outputs": [
    {
     "data": {
      "text/html": [
       "<div>\n",
       "<style scoped>\n",
       "    .dataframe tbody tr th:only-of-type {\n",
       "        vertical-align: middle;\n",
       "    }\n",
       "\n",
       "    .dataframe tbody tr th {\n",
       "        vertical-align: top;\n",
       "    }\n",
       "\n",
       "    .dataframe thead th {\n",
       "        text-align: right;\n",
       "    }\n",
       "</style>\n",
       "<table border=\"1\" class=\"dataframe\">\n",
       "  <thead>\n",
       "    <tr style=\"text-align: right;\">\n",
       "      <th></th>\n",
       "      <th>Country</th>\n",
       "      <th>Capital</th>\n",
       "      <th>Language</th>\n",
       "    </tr>\n",
       "  </thead>\n",
       "  <tbody>\n",
       "    <tr>\n",
       "      <th>0</th>\n",
       "      <td>Afghanistan</td>\n",
       "      <td>Kabul</td>\n",
       "      <td>Pashto/Dari(Arabic script)\\n</td>\n",
       "    </tr>\n",
       "    <tr>\n",
       "      <th>1</th>\n",
       "      <td>Albania</td>\n",
       "      <td>Tirana</td>\n",
       "      <td>Albanian\\n</td>\n",
       "    </tr>\n",
       "    <tr>\n",
       "      <th>2</th>\n",
       "      <td>Algeria</td>\n",
       "      <td>Algiers</td>\n",
       "      <td>Berber language(Tifinagh script)Arabic(Arabic ...</td>\n",
       "    </tr>\n",
       "    <tr>\n",
       "      <th>3</th>\n",
       "      <td>American Samoa[1]</td>\n",
       "      <td>Pago Pago</td>\n",
       "      <td>SamoanEnglish\\n</td>\n",
       "    </tr>\n",
       "    <tr>\n",
       "      <th>4</th>\n",
       "      <td>Andorra</td>\n",
       "      <td>Andorra la Vella</td>\n",
       "      <td>Catalan\\n</td>\n",
       "    </tr>\n",
       "    <tr>\n",
       "      <th>...</th>\n",
       "      <td>...</td>\n",
       "      <td>...</td>\n",
       "      <td>...</td>\n",
       "    </tr>\n",
       "    <tr>\n",
       "      <th>238</th>\n",
       "      <td>Wallis and Futuna[10]</td>\n",
       "      <td>Mata Utu</td>\n",
       "      <td>FrenchWallisianFutunan\\n</td>\n",
       "    </tr>\n",
       "    <tr>\n",
       "      <th>239</th>\n",
       "      <td>Yemen</td>\n",
       "      <td>Sana'a</td>\n",
       "      <td>Arabic(Arabic script)\\n</td>\n",
       "    </tr>\n",
       "    <tr>\n",
       "      <th>240</th>\n",
       "      <td>Zambia</td>\n",
       "      <td>Lusaka</td>\n",
       "      <td>English, Bemba, Chewa\\n</td>\n",
       "    </tr>\n",
       "    <tr>\n",
       "      <th>241</th>\n",
       "      <td>Zimbabwe</td>\n",
       "      <td>Harare</td>\n",
       "      <td>English, Shona\\n</td>\n",
       "    </tr>\n",
       "    <tr>\n",
       "      <th>242</th>\n",
       "      <td>tuvalu</td>\n",
       "      <td>funafuti</td>\n",
       "      <td>asdf</td>\n",
       "    </tr>\n",
       "  </tbody>\n",
       "</table>\n",
       "<p>243 rows × 3 columns</p>\n",
       "</div>"
      ],
      "text/plain": [
       "                    Country           Capital  \\\n",
       "0               Afghanistan             Kabul   \n",
       "1                   Albania            Tirana   \n",
       "2                   Algeria           Algiers   \n",
       "3         American Samoa[1]         Pago Pago   \n",
       "4                   Andorra  Andorra la Vella   \n",
       "..                      ...               ...   \n",
       "238   Wallis and Futuna[10]          Mata Utu   \n",
       "239                   Yemen            Sana'a   \n",
       "240                  Zambia            Lusaka   \n",
       "241                Zimbabwe            Harare   \n",
       "242                  tuvalu          funafuti   \n",
       "\n",
       "                                              Language  \n",
       "0                         Pashto/Dari(Arabic script)\\n  \n",
       "1                                           Albanian\\n  \n",
       "2    Berber language(Tifinagh script)Arabic(Arabic ...  \n",
       "3                                      SamoanEnglish\\n  \n",
       "4                                            Catalan\\n  \n",
       "..                                                 ...  \n",
       "238                           FrenchWallisianFutunan\\n  \n",
       "239                            Arabic(Arabic script)\\n  \n",
       "240                            English, Bemba, Chewa\\n  \n",
       "241                                   English, Shona\\n  \n",
       "242                                               asdf  \n",
       "\n",
       "[243 rows x 3 columns]"
      ]
     },
     "execution_count": 29,
     "metadata": {},
     "output_type": "execute_result"
    }
   ],
   "source": [
    "df"
   ]
  },
  {
   "cell_type": "markdown",
   "id": "d227616b",
   "metadata": {},
   "source": [
    "###  Cleaning csv file"
   ]
  },
  {
   "cell_type": "code",
   "execution_count": 30,
   "id": "5ec6baaf",
   "metadata": {},
   "outputs": [],
   "source": [
    "df['Language']=df['Language'].apply(lambda x: x.strip())"
   ]
  },
  {
   "cell_type": "code",
   "execution_count": 31,
   "id": "fe0acf15",
   "metadata": {},
   "outputs": [],
   "source": [
    "df['Country']=df['Country'].apply(lambda  x : re.sub('\\[.*\\]','',x.strip()))"
   ]
  },
  {
   "cell_type": "markdown",
   "id": "5707045b",
   "metadata": {},
   "source": [
    "###  Creating csv file"
   ]
  },
  {
   "cell_type": "code",
   "execution_count": 32,
   "id": "a0c93771",
   "metadata": {},
   "outputs": [],
   "source": [
    "df.to_csv(\"countriess.csv\", index=False)"
   ]
  },
  {
   "cell_type": "code",
   "execution_count": 33,
   "id": "6ba765e2",
   "metadata": {},
   "outputs": [],
   "source": [
    "country_df=pd.read_csv('countriess.csv')"
   ]
  },
  {
   "cell_type": "code",
   "execution_count": 34,
   "id": "d1fac6d1",
   "metadata": {},
   "outputs": [
    {
     "data": {
      "text/html": [
       "<div>\n",
       "<style scoped>\n",
       "    .dataframe tbody tr th:only-of-type {\n",
       "        vertical-align: middle;\n",
       "    }\n",
       "\n",
       "    .dataframe tbody tr th {\n",
       "        vertical-align: top;\n",
       "    }\n",
       "\n",
       "    .dataframe thead th {\n",
       "        text-align: right;\n",
       "    }\n",
       "</style>\n",
       "<table border=\"1\" class=\"dataframe\">\n",
       "  <thead>\n",
       "    <tr style=\"text-align: right;\">\n",
       "      <th></th>\n",
       "      <th>Country</th>\n",
       "      <th>Capital</th>\n",
       "      <th>Language</th>\n",
       "    </tr>\n",
       "  </thead>\n",
       "  <tbody>\n",
       "    <tr>\n",
       "      <th>0</th>\n",
       "      <td>Afghanistan</td>\n",
       "      <td>Kabul</td>\n",
       "      <td>Pashto/Dari(Arabic script)</td>\n",
       "    </tr>\n",
       "    <tr>\n",
       "      <th>1</th>\n",
       "      <td>Albania</td>\n",
       "      <td>Tirana</td>\n",
       "      <td>Albanian</td>\n",
       "    </tr>\n",
       "    <tr>\n",
       "      <th>2</th>\n",
       "      <td>Algeria</td>\n",
       "      <td>Algiers</td>\n",
       "      <td>Berber language(Tifinagh script)Arabic(Arabic ...</td>\n",
       "    </tr>\n",
       "    <tr>\n",
       "      <th>3</th>\n",
       "      <td>American Samoa</td>\n",
       "      <td>Pago Pago</td>\n",
       "      <td>SamoanEnglish</td>\n",
       "    </tr>\n",
       "    <tr>\n",
       "      <th>4</th>\n",
       "      <td>Andorra</td>\n",
       "      <td>Andorra la Vella</td>\n",
       "      <td>Catalan</td>\n",
       "    </tr>\n",
       "    <tr>\n",
       "      <th>...</th>\n",
       "      <td>...</td>\n",
       "      <td>...</td>\n",
       "      <td>...</td>\n",
       "    </tr>\n",
       "    <tr>\n",
       "      <th>238</th>\n",
       "      <td>Wallis and Futuna</td>\n",
       "      <td>Mata Utu</td>\n",
       "      <td>FrenchWallisianFutunan</td>\n",
       "    </tr>\n",
       "    <tr>\n",
       "      <th>239</th>\n",
       "      <td>Yemen</td>\n",
       "      <td>Sana'a</td>\n",
       "      <td>Arabic(Arabic script)</td>\n",
       "    </tr>\n",
       "    <tr>\n",
       "      <th>240</th>\n",
       "      <td>Zambia</td>\n",
       "      <td>Lusaka</td>\n",
       "      <td>English, Bemba, Chewa</td>\n",
       "    </tr>\n",
       "    <tr>\n",
       "      <th>241</th>\n",
       "      <td>Zimbabwe</td>\n",
       "      <td>Harare</td>\n",
       "      <td>English, Shona</td>\n",
       "    </tr>\n",
       "    <tr>\n",
       "      <th>242</th>\n",
       "      <td>tuvalu</td>\n",
       "      <td>funafuti</td>\n",
       "      <td>asdf</td>\n",
       "    </tr>\n",
       "  </tbody>\n",
       "</table>\n",
       "<p>243 rows × 3 columns</p>\n",
       "</div>"
      ],
      "text/plain": [
       "               Country           Capital  \\\n",
       "0          Afghanistan             Kabul   \n",
       "1              Albania            Tirana   \n",
       "2              Algeria           Algiers   \n",
       "3       American Samoa         Pago Pago   \n",
       "4              Andorra  Andorra la Vella   \n",
       "..                 ...               ...   \n",
       "238  Wallis and Futuna          Mata Utu   \n",
       "239              Yemen            Sana'a   \n",
       "240             Zambia            Lusaka   \n",
       "241           Zimbabwe            Harare   \n",
       "242             tuvalu          funafuti   \n",
       "\n",
       "                                              Language  \n",
       "0                           Pashto/Dari(Arabic script)  \n",
       "1                                             Albanian  \n",
       "2    Berber language(Tifinagh script)Arabic(Arabic ...  \n",
       "3                                        SamoanEnglish  \n",
       "4                                              Catalan  \n",
       "..                                                 ...  \n",
       "238                             FrenchWallisianFutunan  \n",
       "239                              Arabic(Arabic script)  \n",
       "240                              English, Bemba, Chewa  \n",
       "241                                     English, Shona  \n",
       "242                                               asdf  \n",
       "\n",
       "[243 rows x 3 columns]"
      ]
     },
     "execution_count": 34,
     "metadata": {},
     "output_type": "execute_result"
    }
   ],
   "source": [
    "country_df"
   ]
  },
  {
   "cell_type": "markdown",
   "id": "3c014ba4",
   "metadata": {},
   "source": [
    "###  web automation"
   ]
  },
  {
   "cell_type": "code",
   "execution_count": 35,
   "id": "45011b53",
   "metadata": {},
   "outputs": [],
   "source": [
    "driver=webdriver.Edge(executable_path='msedgedriver')"
   ]
  },
  {
   "cell_type": "code",
   "execution_count": null,
   "id": "60f29d1c",
   "metadata": {},
   "outputs": [],
   "source": [
    "driver.get('https://www.jetpunk.com/quizzes/name-world-capitals')"
   ]
  },
  {
   "cell_type": "code",
   "execution_count": null,
   "id": "13a8da0a",
   "metadata": {},
   "outputs": [],
   "source": [
    "button=driver.find_element_by_id('start-button')"
   ]
  },
  {
   "cell_type": "code",
   "execution_count": null,
   "id": "4d3134e6",
   "metadata": {},
   "outputs": [],
   "source": [
    "button.click()"
   ]
  },
  {
   "cell_type": "code",
   "execution_count": null,
   "id": "1664a641",
   "metadata": {},
   "outputs": [],
   "source": [
    "for i in range(0,243):\n",
    "    fill=driver.find_element_by_xpath('//*[@id=\"txt-answer-box\"]')   \n",
    "    fill.send_keys(df['Capital'][i])\n",
    "    fill.send_keys(\" \")\n",
    "    fill.clear()\n",
    "    \n",
    "    "
   ]
  },
  {
   "cell_type": "code",
   "execution_count": 38,
   "id": "ea1bc3be",
   "metadata": {},
   "outputs": [],
   "source": [
    "driver.quit()"
   ]
  },
  {
   "cell_type": "code",
   "execution_count": null,
   "id": "0cc960bd",
   "metadata": {},
   "outputs": [],
   "source": []
  }
 ],
 "metadata": {
  "kernelspec": {
   "display_name": "Python 3",
   "language": "python",
   "name": "python3"
  },
  "language_info": {
   "codemirror_mode": {
    "name": "ipython",
    "version": 3
   },
   "file_extension": ".py",
   "mimetype": "text/x-python",
   "name": "python",
   "nbconvert_exporter": "python",
   "pygments_lexer": "ipython3",
   "version": "3.8.8"
  }
 },
 "nbformat": 4,
 "nbformat_minor": 5
}
